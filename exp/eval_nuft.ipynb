{
 "cells": [
  {
   "cell_type": "code",
   "execution_count": 1,
   "metadata": {},
   "outputs": [
    {
     "name": "stderr",
     "output_type": "stream",
     "text": [
      "/data/anaconda3/envs/gdl/lib/python3.9/site-packages/pandas/core/computation/expressions.py:21: UserWarning: Pandas requires version '2.8.0' or newer of 'numexpr' (version '2.7.3' currently installed).\n",
      "  from pandas.core.computation.check import NUMEXPR_INSTALLED\n"
     ]
    }
   ],
   "source": [
    "import yaml\n",
    "import numpy as np\n",
    "\n",
    "from sklearn.neighbors import NearestNeighbors\n",
    "from scipy.spatial.distance import directed_hausdorff\n",
    "\n",
    "from data.dataset import NUFTDataset\n",
    "from train.nuft_trainer import Trainer\n",
    "from model.nn import build_model\n",
    "from torchinfo import summary"
   ]
  },
  {
   "cell_type": "code",
   "execution_count": 2,
   "metadata": {},
   "outputs": [
    {
     "name": "stderr",
     "output_type": "stream",
     "text": [
      "  0%|          | 0/5010 [00:00<?, ?it/s]/data/anaconda3/envs/gdl/lib/python3.9/site-packages/torch/functional.py:478: UserWarning: torch.meshgrid: in an upcoming release, it will be required to pass the indexing argument. (Triggered internally at  /opt/conda/conda-bld/pytorch_1659484806139/work/aten/src/ATen/native/TensorShape.cpp:2894.)\n",
      "  return _VF.meshgrid(tensors, **kwargs)  # type: ignore[attr-defined]\n",
      "100%|██████████| 5010/5010 [00:06<00:00, 803.14it/s]\n",
      "100%|██████████| 5010/5010 [00:06<00:00, 801.05it/s]\n",
      "100%|██████████| 37139/37139 [00:45<00:00, 816.65it/s]\n"
     ]
    }
   ],
   "source": [
    "with open('cfg/nuft.yaml', 'r') as f:\n",
    "    cfg = yaml.safe_load(f)  \n",
    "    \n",
    "import pandas as pd\n",
    "osm_df = pd.read_pickle(cfg['osm'])\n",
    "melb_df = pd.read_pickle(cfg['melb'])\n",
    "\n",
    "osm_df_o = osm_df[osm_df.trans == 'o'].reset_index(drop=True)    \n",
    "osm_df_r = osm_df[osm_df.trans == 'r'].reset_index(drop=True)  \n",
    "\n",
    "osm_set_o = NUFTDataset(osm_df_o).to_data_list()\n",
    "osm_set_r = NUFTDataset(osm_df_r).to_data_list()\n",
    "melb_set = NUFTDataset(melb_df).to_data_list()\n",
    "\n",
    "datasets = {'osm_set_o': osm_set_o, \n",
    "            'osm_set_r': osm_set_r,\n",
    "            'melb_set': melb_set\n",
    "            }\n",
    "\n",
    "backbone = ['nuft']\n",
    "\n",
    "ckpt = 'epoch100'"
   ]
  },
  {
   "cell_type": "code",
   "execution_count": 3,
   "metadata": {},
   "outputs": [
    {
     "name": "stdout",
     "output_type": "stream",
     "text": [
      "=================================================================\n",
      "Layer (type:depth-idx)                   Param #\n",
      "=================================================================\n",
      "NUFTAE                                   --\n",
      "├─MLP: 1-1                               --\n",
      "│    └─ReLU: 2-1                         --\n",
      "│    └─ModuleList: 2-2                   --\n",
      "│    │    └─Linear: 3-1                  18,496\n",
      "│    │    └─Linear: 3-2                  4,160\n",
      "│    │    └─Linear: 3-3                  4,160\n",
      "│    └─ModuleList: 2-3                   --\n",
      "│    │    └─BatchNorm: 3-4               128\n",
      "│    │    └─BatchNorm: 3-5               128\n",
      "├─MLP: 1-2                               --\n",
      "│    └─ReLU: 2-4                         --\n",
      "│    └─ModuleList: 2-5                   --\n",
      "│    │    └─Linear: 3-6                  4,160\n",
      "│    │    └─Linear: 3-7                  4,160\n",
      "│    │    └─Linear: 3-8                  18,720\n",
      "│    └─ModuleList: 2-6                   --\n",
      "│    │    └─BatchNorm: 3-9               128\n",
      "│    │    └─BatchNorm: 3-10              128\n",
      "=================================================================\n",
      "Total params: 54,368\n",
      "Trainable params: 54,368\n",
      "Non-trainable params: 0\n",
      "=================================================================\n"
     ]
    },
    {
     "data": {
      "text/plain": [
       "{'nuft': {'osm_set_o': [0.1865748907692997,\n",
       "   0.20272566746489004,\n",
       "   0.2102240942786342,\n",
       "   0.21538509284638102,\n",
       "   0.21939029621055778,\n",
       "   0.22435394600216707],\n",
       "  'osm_set_r': [0.240465041672236,\n",
       "   0.2536760798224491,\n",
       "   0.261873685504461,\n",
       "   0.2690203855347671,\n",
       "   0.2712252768003921,\n",
       "   0.27347542785671153],\n",
       "  'melb_set': [0.13622239315600432,\n",
       "   0.14786663714388434,\n",
       "   0.15399067541614347,\n",
       "   0.15821490926917153,\n",
       "   0.16134789184550116,\n",
       "   0.16434062791737603]}}"
      ]
     },
     "execution_count": 3,
     "metadata": {},
     "output_type": "execute_result"
    }
   ],
   "source": [
    "\n",
    "cfg['nn'] = 'nuft'\n",
    "cfg['path'] = f'save/{cfg[\"nn\"]}'\n",
    "\n",
    "model = build_model(cfg=cfg)\n",
    "trainer = Trainer(cfg=cfg) \n",
    "model = trainer.load_ckpt(model, 'epoch100')\n",
    "model.eval()\n",
    "print(summary(model))\n",
    "\n",
    "metrics = {}\n",
    "for key, dataset in datasets.items():\n",
    "    zs = []\n",
    "    for data in dataset:\n",
    "        data.to('cuda')\n",
    "        z = model.encoder(data.x, data.batch)\n",
    "        zs.append(z.mean(0).detach().cpu().numpy())\n",
    "\n",
    "    zs = np.stack(zs, axis=0)\n",
    "    zs = zs[~np.isnan(zs).any(axis=1)]\n",
    "    \n",
    "    # NN neighbors\n",
    "    nbrs = NearestNeighbors(n_neighbors=7, algorithm='auto').fit(zs)\n",
    "    dist, idx = nbrs.kneighbors(zs)\n",
    "    # Hausdorff dist    \n",
    "    query_id = idx[:, 0]\n",
    "    target_id = idx[:, 1:]\n",
    "    haus_dist = []\n",
    "    for id, tids in enumerate(target_id):\n",
    "        qid = query_id[id]\n",
    "        tem_dist = []\n",
    "        for tid in tids: \n",
    "            dist = directed_hausdorff(dataset[qid].x.cpu().numpy(), \n",
    "                                      dataset[tid].x.cpu().numpy())\n",
    "            tem_dist.append(dist[0])\n",
    "        haus_dist.append(tem_dist)\n",
    "    metrics[key] =  np.stack(haus_dist, axis=0).mean(axis=0).tolist()\n",
    "    \n",
    "nuft = {'nuft': metrics}\n",
    "nuft"
   ]
  }
 ],
 "metadata": {
  "kernelspec": {
   "display_name": "gdl",
   "language": "python",
   "name": "python3"
  },
  "language_info": {
   "codemirror_mode": {
    "name": "ipython",
    "version": 3
   },
   "file_extension": ".py",
   "mimetype": "text/x-python",
   "name": "python",
   "nbconvert_exporter": "python",
   "pygments_lexer": "ipython3",
   "version": "3.9.18"
  }
 },
 "nbformat": 4,
 "nbformat_minor": 2
}
